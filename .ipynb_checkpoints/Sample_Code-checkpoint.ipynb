{
 "cells": [
  {
   "cell_type": "code",
   "execution_count": 1,
   "id": "5c277ffd",
   "metadata": {},
   "outputs": [],
   "source": [
    "import numpy as np"
   ]
  },
  {
   "cell_type": "code",
   "execution_count": 2,
   "id": "8cb449f1",
   "metadata": {},
   "outputs": [],
   "source": [
    "X = np.array([\n",
    "    [1],\n",
    "    [2],\n",
    "    [3],\n",
    "    [4],\n",
    "    [5]\n",
    "])\n",
    "y = np.array([100,200,300,400,500])"
   ]
  },
  {
   "cell_type": "code",
   "execution_count": 3,
   "id": "97b8302c",
   "metadata": {},
   "outputs": [
    {
     "name": "stdout",
     "output_type": "stream",
     "text": [
      "[115.70560349 209.68792457 303.67024565 397.65256673 491.63488781]\n"
     ]
    }
   ],
   "source": [
    "from Linear_Regression import LinearRegression"
   ]
  },
  {
   "cell_type": "code",
   "execution_count": 4,
   "id": "407bbd1e",
   "metadata": {},
   "outputs": [],
   "source": [
    "lin_reg = LinearRegression()"
   ]
  },
  {
   "cell_type": "code",
   "execution_count": 5,
   "id": "869f9dbb",
   "metadata": {},
   "outputs": [],
   "source": [
    "lin_reg.fit(X,y)"
   ]
  },
  {
   "cell_type": "code",
   "execution_count": 6,
   "id": "34e6ad62",
   "metadata": {},
   "outputs": [
    {
     "data": {
      "text/plain": [
       "array([115.70560349, 209.68792457, 303.67024565, 397.65256673,\n",
       "       491.63488781])"
      ]
     },
     "execution_count": 6,
     "metadata": {},
     "output_type": "execute_result"
    }
   ],
   "source": [
    "lin_reg.predict(X)"
   ]
  },
  {
   "cell_type": "code",
   "execution_count": 13,
   "id": "5b04d091",
   "metadata": {},
   "outputs": [
    {
     "data": {
      "text/plain": [
       "array([[1],\n",
       "       [2],\n",
       "       [3],\n",
       "       [4],\n",
       "       [5]])"
      ]
     },
     "execution_count": 13,
     "metadata": {},
     "output_type": "execute_result"
    }
   ],
   "source": [
    "X"
   ]
  },
  {
   "cell_type": "code",
   "execution_count": 8,
   "id": "d4ba6760",
   "metadata": {},
   "outputs": [
    {
     "data": {
      "text/html": [
       "<div>\n",
       "<style scoped>\n",
       "    .dataframe tbody tr th:only-of-type {\n",
       "        vertical-align: middle;\n",
       "    }\n",
       "\n",
       "    .dataframe tbody tr th {\n",
       "        vertical-align: top;\n",
       "    }\n",
       "\n",
       "    .dataframe thead th {\n",
       "        text-align: right;\n",
       "    }\n",
       "</style>\n",
       "<table border=\"1\" class=\"dataframe\">\n",
       "  <thead>\n",
       "    <tr style=\"text-align: right;\">\n",
       "      <th></th>\n",
       "      <th>Square_ft</th>\n",
       "      <th>Price</th>\n",
       "    </tr>\n",
       "  </thead>\n",
       "  <tbody>\n",
       "    <tr>\n",
       "      <th>0</th>\n",
       "      <td>1500</td>\n",
       "      <td>158900</td>\n",
       "    </tr>\n",
       "    <tr>\n",
       "      <th>1</th>\n",
       "      <td>1700</td>\n",
       "      <td>169850</td>\n",
       "    </tr>\n",
       "    <tr>\n",
       "      <th>2</th>\n",
       "      <td>1750</td>\n",
       "      <td>178950</td>\n",
       "    </tr>\n",
       "    <tr>\n",
       "      <th>3</th>\n",
       "      <td>1800</td>\n",
       "      <td>178650</td>\n",
       "    </tr>\n",
       "    <tr>\n",
       "      <th>4</th>\n",
       "      <td>1820</td>\n",
       "      <td>180000</td>\n",
       "    </tr>\n",
       "  </tbody>\n",
       "</table>\n",
       "</div>"
      ],
      "text/plain": [
       "   Square_ft   Price\n",
       "0       1500  158900\n",
       "1       1700  169850\n",
       "2       1750  178950\n",
       "3       1800  178650\n",
       "4       1820  180000"
      ]
     },
     "execution_count": 8,
     "metadata": {},
     "output_type": "execute_result"
    }
   ],
   "source": [
    "import pandas as pd\n",
    "data = pd.read_csv('data.txt', delimiter = ',', names = ['Square_ft', 'Price']);data.head()"
   ]
  },
  {
   "cell_type": "code",
   "execution_count": 14,
   "id": "094cb6f7",
   "metadata": {},
   "outputs": [
    {
     "data": {
      "text/plain": [
       "array([[1500],\n",
       "       [1700],\n",
       "       [1750],\n",
       "       [1800],\n",
       "       [1820],\n",
       "       [1920],\n",
       "       [1450],\n",
       "       [1590],\n",
       "       [1596],\n",
       "       [1623],\n",
       "       [1878],\n",
       "       [1658],\n",
       "       [1720],\n",
       "       [1985],\n",
       "       [2000],\n",
       "       [2100],\n",
       "       [2050],\n",
       "       [1990],\n",
       "       [1965],\n",
       "       [1970],\n",
       "       [2120],\n",
       "       [2200],\n",
       "       [2156],\n",
       "       [1269],\n",
       "       [1489],\n",
       "       [1785],\n",
       "       [1965],\n",
       "       [1948],\n",
       "       [2008],\n",
       "       [2079],\n",
       "       [2116],\n",
       "       [2230],\n",
       "       [2200],\n",
       "       [2220],\n",
       "       [2365],\n",
       "       [2325],\n",
       "       [2396],\n",
       "       [2489],\n",
       "       [2420],\n",
       "       [2398],\n",
       "       [2350],\n",
       "       [2375],\n",
       "       [2236],\n",
       "       [2347],\n",
       "       [2459]], dtype=int64)"
      ]
     },
     "execution_count": 14,
     "metadata": {},
     "output_type": "execute_result"
    }
   ],
   "source": [
    "X = np.array(data[['Square_ft']]);X"
   ]
  },
  {
   "cell_type": "code",
   "execution_count": null,
   "id": "d455ad0b",
   "metadata": {},
   "outputs": [],
   "source": []
  }
 ],
 "metadata": {
  "kernelspec": {
   "display_name": "Python 3",
   "language": "python",
   "name": "python3"
  },
  "language_info": {
   "codemirror_mode": {
    "name": "ipython",
    "version": 3
   },
   "file_extension": ".py",
   "mimetype": "text/x-python",
   "name": "python",
   "nbconvert_exporter": "python",
   "pygments_lexer": "ipython3",
   "version": "3.8.8"
  }
 },
 "nbformat": 4,
 "nbformat_minor": 5
}
